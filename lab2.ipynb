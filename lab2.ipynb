{
  "nbformat": 4,
  "nbformat_minor": 0,
  "metadata": {
    "accelerator": "GPU",
    "colab": {
      "name": "lab2.ipynb",
      "provenance": [],
      "collapsed_sections": [],
      "include_colab_link": true
    },
    "kernelspec": {
      "display_name": "Python 3",
      "language": "python",
      "name": "python3"
    },
    "language_info": {
      "codemirror_mode": {
        "name": "ipython",
        "version": 3
      },
      "file_extension": ".py",
      "mimetype": "text/x-python",
      "name": "python",
      "nbconvert_exporter": "python",
      "pygments_lexer": "ipython3",
      "version": "3.7.1"
    },
    "pycharm": {
      "stem_cell": {
        "cell_type": "raw",
        "metadata": {
          "collapsed": false
        },
        "source": []
      }
    }
  },
  "cells": [
    {
      "cell_type": "markdown",
      "metadata": {
        "id": "view-in-github",
        "colab_type": "text"
      },
      "source": [
        "<a href=\"https://colab.research.google.com/github/mpt777/CS474/blob/main/lab2.ipynb\" target=\"_parent\"><img src=\"https://colab.research.google.com/assets/colab-badge.svg\" alt=\"Open In Colab\"/></a>"
      ]
    },
    {
      "cell_type": "markdown",
      "metadata": {
        "id": "ep2DPT3H32s9"
      },
      "source": [
        "<a href=\"https://colab.research.google.com/github/wingated/cs474_labs_f2019/blob/master/DL_Lab2.ipynb\" target=\"_parent\"><img src=\"https://colab.research.google.com/assets/colab-badge.svg\" alt=\"Open In Colab\"/></a>"
      ]
    },
    {
      "cell_type": "markdown",
      "metadata": {
        "id": "view-in-github"
      },
      "source": [
        "# Lab 2: Intro to PyTorch\n",
        "\n",
        "## Deliverable\n",
        "\n",
        "For this lab, you will submit an ipython notebook via learningsuite.\n",
        "This lab will be mostly boilerplate code, but you will be required to implement a few extras.\n",
        "\n",
        "**NOTE: you almost certainly will not understand most of what's going on in this lab!\n",
        "That's ok - the point is just to get you going with pytorch.\n",
        "We'll be working on developing a deeper understanding of every part of this code\n",
        "over the course of the next two weeks.**\n",
        "\n",
        "A major goal of this lab is to help you become conversant in working through pytorch\n",
        "tutorials and documentation.\n",
        "So, you should feel free to google whatever you want and need!\n",
        "\n",
        "This notebook will have four parts:\n",
        "\n",
        "* Part 1: Your notebook should contain the boilerplate code. See below.\n",
        "\n",
        "* Part 2: Your notebook should extend the boilerplate code by adding a testing loop.\n",
        "\n",
        "* Part 3: Your notebook should extend the boilerplate code by adding a visualization of test/training performance over time.\n",
        "\n",
        "The resulting image could, for example, look like this:\n",
        "![](http://liftothers.org/dokuwiki/lib/exe/fetch.php?cache=&w=900&h=608&tok=3092fe&media=cs501r_f2018:lab2.png)\n",
        "\n",
        "* Part 4: Your notebook should contain the completed microtasks and pass all the asserts.\n",
        "\n",
        "See the assigned readings for pointers to documentation on pytorch.\n",
        "___\n",
        "\n",
        "### Grading standards:\n",
        "Your notebook will be graded on the following:\n",
        "\n",
        "* 40% Successfully followed lab video and typed in code\n",
        "* 20% Modified code to include a test/train split\n",
        "* 20% Modified code to include a visualization of train/test losses\n",
        "* 10% Tidy and legible figures, including labeled axes where appropriate\n",
        "* 10% Correct solutions to the microtasks\n",
        "___\n",
        "\n",
        "### Description\n",
        "Throughout this class, we will be using pytorch to implement our deep neural networks. \n",
        "Pytorch is a deep learning framework that handles the low-level details of \n",
        "GPU integration and automatic differentiation.\n",
        "\n",
        "The goal of this lab is to help you become familiar with pytorch. \n",
        "The four parts of the lab are outlined above.\n",
        "\n",
        "For part 1, you should watch the video below, and type in the code as it is explained to you.\n",
        "\n",
        "A more detailed outline of Part 1 is below.\n",
        "\n",
        "For part 2, you must add a validation (or testing) loop using the \n",
        "FashionMNIST dataset with train=False\n",
        "\n",
        "For part 3, you must plot the loss values.\n",
        "\n",
        "For part 4, you must complete the microtasks and pass all asserts.\n",
        "\n",
        "Optional: Demonstrate overfitting on the training data.\n",
        "\n",
        "The easiest way to do this is to limit the size of your training dataset \n",
        "so that it only returns a single batch (ie len(dataloader) == batch_size, \n",
        "and train for multiple epochs. For example,\n",
        "I set my batch size to 42, and augmented my dataloader to produce only 42 \n",
        "unique items by overwriting the len function to return 42. \n",
        "In my training loop, I performed a validation every epoch which basically corresponded \n",
        "to a validation every step.\n",
        "\n",
        "In practice, you will normally compute your validation loss every n steps, \n",
        "rather than at the end of every epoch. This is because some epochs can take hours, \n",
        "or even days and you don’t often want to wait that long to see your results.\n",
        "\n",
        "Testing your algorithm by using a single batch and training until overfitting \n",
        "is a great way of making sure that your model and optimizer are working the way they should!\n",
        "\n",
        "___\n",
        "\n",
        "### Part 0\n",
        "Watch Tutorial Video\n",
        "\n",
        "[https://youtu.be/E76hLX9WCLE](https://youtu.be/E76hLX9WCLE)\n",
        "\n",
        "**TODO:**\n",
        "\n",
        "\n",
        "**DONE:**\n",
        "* Watch video\n",
        "___\n",
        "\n",
        "### Part 1\n",
        "Your notebook should contain the boilerplate code. See below.\n",
        "\n",
        "**TODO:**\n",
        "\n",
        "\n",
        "\n",
        "**DONE:**\n",
        "* Replicate boilerplate from the video\n",
        "___\n",
        "\n",
        "### Part 2\n",
        "Your notebook should extend the boilerplate code by adding a testing loop.\n",
        "\n",
        "**TODO:**\n",
        "\n",
        "\n",
        "**DONE:**\n",
        "* Add a testing (validation) loop"
      ]
    },
    {
      "cell_type": "code",
      "metadata": {
        "colab": {
          "base_uri": "https://localhost:8080/"
        },
        "id": "QClXc9i7VRyA",
        "pycharm": {
          "is_executing": false
        },
        "outputId": "666019a6-72df-4c64-ef88-0ba4dd4aac68"
      },
      "source": [
        "!pip3 install torch \n",
        "!pip3 install torchvision\n",
        "!pip3 install tqdm"
      ],
      "execution_count": null,
      "outputs": [
        {
          "output_type": "stream",
          "text": [
            "Requirement already satisfied: torch in /usr/local/lib/python3.6/dist-packages (1.7.0+cu101)\n",
            "Requirement already satisfied: numpy in /usr/local/lib/python3.6/dist-packages (from torch) (1.19.5)\n",
            "Requirement already satisfied: future in /usr/local/lib/python3.6/dist-packages (from torch) (0.16.0)\n",
            "Requirement already satisfied: typing-extensions in /usr/local/lib/python3.6/dist-packages (from torch) (3.7.4.3)\n",
            "Requirement already satisfied: dataclasses in /usr/local/lib/python3.6/dist-packages (from torch) (0.8)\n",
            "Requirement already satisfied: torchvision in /usr/local/lib/python3.6/dist-packages (0.8.1+cu101)\n",
            "Requirement already satisfied: torch==1.7.0 in /usr/local/lib/python3.6/dist-packages (from torchvision) (1.7.0+cu101)\n",
            "Requirement already satisfied: numpy in /usr/local/lib/python3.6/dist-packages (from torchvision) (1.19.5)\n",
            "Requirement already satisfied: pillow>=4.1.1 in /usr/local/lib/python3.6/dist-packages (from torchvision) (7.0.0)\n",
            "Requirement already satisfied: dataclasses in /usr/local/lib/python3.6/dist-packages (from torch==1.7.0->torchvision) (0.8)\n",
            "Requirement already satisfied: future in /usr/local/lib/python3.6/dist-packages (from torch==1.7.0->torchvision) (0.16.0)\n",
            "Requirement already satisfied: typing-extensions in /usr/local/lib/python3.6/dist-packages (from torch==1.7.0->torchvision) (3.7.4.3)\n",
            "Requirement already satisfied: tqdm in /usr/local/lib/python3.6/dist-packages (4.41.1)\n"
          ],
          "name": "stdout"
        }
      ]
    },
    {
      "cell_type": "code",
      "metadata": {
        "id": "OU80yuvqVXwk",
        "pycharm": {
          "is_executing": false
        }
      },
      "source": [
        "import torch\n",
        "import torch.nn as nn\n",
        "import torch.nn.functional as F\n",
        "import torch.optim as optim\n",
        "from torch.utils.data import Dataset, DataLoader\n",
        "import numpy as np\n",
        "import matplotlib.pyplot as plt\n",
        "from torchvision import transforms, utils, datasets\n",
        "from tqdm import tqdm\n",
        " \n",
        "assert torch.cuda.is_available() # You need to request a GPU from Runtime > Change Runtime Type\n",
        "\n",
        "# Write the boilerplate code from the video here\n",
        "\n",
        "# Create a dataset class that extends the torch.utils.data Dataset class here\n",
        "\n",
        "# Extend the torch.Module class to create your own neural network\n",
        "\n",
        "# Instantiate the train and validation sets\n",
        "\n",
        "# Instantiate your data loaders\n",
        "\n",
        "# Instantiate your model and loss and optimizer functions\n",
        "\n",
        "# Run your training / validation loops\n"
      ],
      "execution_count": null,
      "outputs": []
    },
    {
      "cell_type": "code",
      "metadata": {
        "id": "b4SOX-K47E4Y"
      },
      "source": [
        "class LinearNetwork (nn.Module):\r\n",
        "  def __init__(self,dataset):\r\n",
        "    super(LinearNetwork, self).__init__()\r\n",
        "    x, y = dataset[0]\r\n",
        "    c, h, w = x.size()\r\n",
        "    out_dim = 10\r\n",
        "\r\n",
        "    self.net = nn.Sequential(nn.Linear(c * h * w, 1000),\r\n",
        "                             nn.ReLU(),\r\n",
        "                             nn.Linear(1000, out_dim))\r\n",
        "    \r\n",
        "  def forward(self, x):\r\n",
        "    n, c, h, w = x.size()\r\n",
        "    flattened = x.view(n, c*h*w)\r\n",
        "    return self.net(flattened)\r\n",
        "\r\n",
        "class FasionMNISTProcessesDataset(Dataset):\r\n",
        "  def __init__(self, root, train=True):\r\n",
        "    self.data = datasets.FashionMNIST(root, train=train,\r\n",
        "                                      transform=transforms.ToTensor(),\r\n",
        "                                      download=True)\r\n",
        "  def __getitem__(self,i):\r\n",
        "    x,y = self.data[i]\r\n",
        "    return x,y\r\n",
        "\r\n",
        "  def __len__(self):\r\n",
        "    return len(self.data)"
      ],
      "execution_count": null,
      "outputs": []
    },
    {
      "cell_type": "code",
      "metadata": {
        "colab": {
          "base_uri": "https://localhost:8080/"
        },
        "id": "-Codr54J3L-v",
        "outputId": "d8d3bcbe-38f8-4096-adb9-8d9a6e54be01"
      },
      "source": [
        "train_dataset = FasionMNISTProcessesDataset('/tmp/fashionmnist', train=True)\r\n",
        "val_dataset = FasionMNISTProcessesDataset('/tmp/fashionmnist', train=False)\r\n",
        "\r\n",
        "model = LinearNetwork(train_dataset)\r\n",
        "model = model.cuda()\r\n",
        "train_loader = DataLoader(train_dataset, batch_size=42, pin_memory=True)\r\n",
        "validation_loader = DataLoader(val_dataset, batch_size=42)\r\n",
        "\r\n",
        "optimizer = optim.SGD(model.parameters(), lr=0.04)\r\n",
        "objective = torch.nn.CrossEntropyLoss()\r\n",
        "\r\n",
        "cntr = 0\r\n",
        "train_losses = []\r\n",
        "validation_losses = []\r\n",
        "\r\n",
        "loop=tqdm(total=len(train_loader) * num_epochs, position=0)\r\n",
        "\r\n",
        "num_epochs = 100\r\n",
        "for epoch in range(num_epochs):\r\n",
        "  #train\r\n",
        "  batch=0\r\n",
        "  for x, y_truth in train_loader:\r\n",
        "    x, y_truth = x.cuda(non_blocking=True), y_truth.cuda(non_blocking=True)\r\n",
        "\r\n",
        "    optimizer.zero_grad()\r\n",
        "\r\n",
        "    y_hat = model(x)\r\n",
        "\r\n",
        "    loss = objective(y_hat, y_truth)\r\n",
        "\r\n",
        "    if (epoch % 25 == 0 and batch == 0):\r\n",
        "      train_losses.append(loss)\r\n",
        "      for val_x, val_y_truth in validation_loader:\r\n",
        "        validation_loss_list=[]\r\n",
        "        val_x, val_y_truth = val_x.cuda(non_blocking=True), val_y_truth.cuda(non_blocking=True)\r\n",
        "        val_y_hat = model(val_x)\r\n",
        "        validation_loss_list.append(objective(val_y_hat, val_y_truth))\r\n",
        "      validation_losses.append(sum(validation_loss_list)/float(len(validation_loss_list)))\r\n",
        "\r\n",
        "      cntr += 1\r\n",
        "\r\n",
        "    loop.set_description('epoch{} batch{} loss:{:.4f} val_loss{:.4f}'.format(epoch, batch, loss.item(), validation_losses[-1]))\r\n",
        "\r\n",
        "    loss.backward()\r\n",
        "    optimizer.step()\r\n",
        "    batch += 1\r\n",
        "\r\n",
        "loop.close()"
      ],
      "execution_count": null,
      "outputs": [
        {
          "output_type": "stream",
          "text": [
            "epoch99 batch1428 loss:0.0063 val_loss0.0003:   0%|          | 0/142900 [15:21<?, ?it/s]\n"
          ],
          "name": "stderr"
        }
      ]
    },
    {
      "cell_type": "markdown",
      "metadata": {
        "id": "_IZmHOvirnFn"
      },
      "source": [
        "\n",
        "___\n",
        "\n",
        "### Part 3\n",
        "Your notebook should extend the boilerplate code by adding a visualization of test/training\n",
        "performance over time. Use matplotlib.pyplot\n",
        "\n",
        "**TODO:**\n",
        "\n",
        "\n",
        "**DONE:**\n",
        "* Add a visualization of test/train performance (i.e. loss) over time.\n"
      ]
    },
    {
      "cell_type": "code",
      "metadata": {
        "id": "YqYrbI5-WHb3",
        "pycharm": {
          "is_executing": false
        },
        "colab": {
          "base_uri": "https://localhost:8080/",
          "height": 265
        },
        "outputId": "cb9f231c-ebd4-4b74-ee3c-59e283a31b05"
      },
      "source": [
        "# Write your code to create a plot of your loss over time\r\n",
        "fig = plt.figure()\r\n",
        "ax = fig.add_subplot(111)\r\n",
        "ax.plot(range(len(validation_losses)), validation_losses, label='Validation Loss')\r\n",
        "ax.plot(range(len(train_losses)), train_losses, label='Training Loss')\r\n",
        "plt.legend()\r\n",
        "plt.show()"
      ],
      "execution_count": null,
      "outputs": [
        {
          "output_type": "display_data",
          "data": {
            "image/png": "[encoded data removed]",
            "text/plain": [
              "<Figure size 432x288 with 1 Axes>"
            ]
          },
          "metadata": {
            "tags": [],
            "needs_background": "light"
          }
        }
      ]
    },
    {
      "cell_type": "markdown",
      "metadata": {
        "id": "0wW4QNYG4LE2"
      },
      "source": [
        "\n",
        "___\n",
        "\n",
        "### Part 4\n",
        "Complete the following microtasks to learn some important Pytorch skills. \n",
        "\n",
        "**TODO:**\n",
        "\n",
        "**DONE:**\n",
        "* Complete microtasks"
      ]
    },
    {
      "cell_type": "code",
      "metadata": {
        "id": "A9aHouhQ6cou",
        "colab": {
          "base_uri": "https://localhost:8080/"
        },
        "outputId": "c47bcce4-6709-4a7d-9311-3b06184e15d3"
      },
      "source": [
        "# Tensors are the the lifeblood of Pytorch. \n",
        "# Construct a 5x3 tensor, 'a', of zeros and of dtype long\n",
        "w, h = 3, 5\n",
        "array = np.array([[0] * w for i in range(h)])\n",
        "a = torch.from_numpy(array)\n",
        "print(a)\n",
        "print(a.size())\n",
        "assert a.size() == torch.Size([5, 3])\n",
        "assert type(a[0][0].item()) is int"
      ],
      "execution_count": null,
      "outputs": [
        {
          "output_type": "stream",
          "text": [
            "tensor([[0, 0, 0],\n",
            "        [0, 0, 0],\n",
            "        [0, 0, 0],\n",
            "        [0, 0, 0],\n",
            "        [0, 0, 0]])\n",
            "torch.Size([5, 3])\n"
          ],
          "name": "stdout"
        }
      ]
    },
    {
      "cell_type": "code",
      "metadata": {
        "id": "6rfOY4HqYDTP",
        "colab": {
          "base_uri": "https://localhost:8080/"
        },
        "outputId": "122067d5-4648-4be0-ac1b-e621c4b9ce0a"
      },
      "source": [
        "# Many of your bugs will come from incorrect tensor dimensions. \n",
        "# Pytorch has several built-in functions to give you the control need. \n",
        "# Using only the .unsqueeze() function, turn 'a' into a 5x1x3 tensor. Hint: use the dim= argument\n",
        "a=torch.unsqueeze(a,1)\n",
        "print(a.shape)\n",
        "assert a.shape == torch.Size([5, 1, 3])"
      ],
      "execution_count": null,
      "outputs": [
        {
          "output_type": "stream",
          "text": [
            "torch.Size([5, 1, 3])\n"
          ],
          "name": "stdout"
        }
      ]
    },
    {
      "cell_type": "code",
      "metadata": {
        "id": "zY1SJ95Ekokk",
        "colab": {
          "base_uri": "https://localhost:8080/"
        },
        "outputId": "437d0d5f-e964-4b4c-e2b9-a580f08ed1fb"
      },
      "source": [
        "# Each dimension means something different. \n",
        "# You can change the order of your dimensions without losing information. \n",
        "# Reshape 'a' into a 5x3x1 tensor, using the .view() function\n",
        "a = test.view(5,3,1)\n",
        "print(a.shape)\n",
        "assert a.shape == torch.Size([5, 3, 1])"
      ],
      "execution_count": null,
      "outputs": [
        {
          "output_type": "stream",
          "text": [
            "torch.Size([5, 3, 1])\n"
          ],
          "name": "stdout"
        }
      ]
    },
    {
      "cell_type": "code",
      "metadata": {
        "id": "_0Q_1vDtmaKW",
        "colab": {
          "base_uri": "https://localhost:8080/"
        },
        "outputId": "5e1ebbd8-5193-4d48-b05a-1e605d44b594"
      },
      "source": [
        "# Dimensions of size 1 can sometimes be necessary for shape matching.\n",
        "# However, they can be removed without losing information. \n",
        "# Squeeze 'a' to remove dimensions of 1\n",
        "a = torch.squeeze(a)\n",
        "print(a.shape)\n",
        "assert a.size() == torch.Size([5, 3])"
      ],
      "execution_count": null,
      "outputs": [
        {
          "output_type": "stream",
          "text": [
            "torch.Size([5, 3])\n"
          ],
          "name": "stdout"
        }
      ]
    },
    {
      "cell_type": "code",
      "metadata": {
        "id": "5miM1dYxnmSY",
        "colab": {
          "base_uri": "https://localhost:8080/"
        },
        "outputId": "1436ead3-73df-4c37-abb3-96c59802012e"
      },
      "source": [
        "# You can turn any tensor into a tensor of a single dimension. \n",
        "# Flatten 'a' to a single dimension\n",
        "a = torch.flatten(a)\n",
        "print(a.size())\n",
        "assert  a.size() == torch.Size([15]) "
      ],
      "execution_count": null,
      "outputs": [
        {
          "output_type": "stream",
          "text": [
            "torch.Size([15])\n"
          ],
          "name": "stdout"
        }
      ]
    },
    {
      "cell_type": "code",
      "metadata": {
        "id": "oxX1Ybcc7gDW",
        "colab": {
          "base_uri": "https://localhost:8080/"
        },
        "outputId": "dbef4c9c-b6a0-4f8c-c48d-8d80f7f7471d"
      },
      "source": [
        "# It's easy to integrate other common python data structures. \n",
        "# Initialize a tensor, 'b', from a list\n",
        "my_list = [1,2,3,4,5]\n",
        "\n",
        "b = torch.Tensor(my_list)\n",
        "\n",
        "print(b)\n",
        "assert b.size() == torch.Size([5])"
      ],
      "execution_count": null,
      "outputs": [
        {
          "output_type": "stream",
          "text": [
            "tensor([1., 2., 3., 4., 5.])\n"
          ],
          "name": "stdout"
        }
      ]
    },
    {
      "cell_type": "code",
      "metadata": {
        "id": "4XpqRqfG9DTr",
        "colab": {
          "base_uri": "https://localhost:8080/"
        },
        "outputId": "2e5316c6-2e4e-4cd6-dce8-ca0d5f3d6598"
      },
      "source": [
        "# GPUs will allow tensor operations to run much faster. \n",
        "# Assign 'a' and 'b' to run on GPU\n",
        "a = a.cuda()\n",
        "b = b.cuda()\n",
        "print(a, b)\n",
        "assert a.is_cuda and b.is_cuda"
      ],
      "execution_count": null,
      "outputs": [
        {
          "output_type": "stream",
          "text": [
            "tensor([0, 0, 0, 0, 0, 0, 0, 0, 0, 0, 0, 0, 0, 0, 0], device='cuda:0') tensor([1., 2., 3., 4., 5.], device='cuda:0')\n"
          ],
          "name": "stdout"
        }
      ]
    },
    {
      "cell_type": "code",
      "metadata": {
        "id": "FPD6NUDf7915",
        "colab": {
          "base_uri": "https://localhost:8080/"
        },
        "outputId": "981e574b-00c8-4c3b-b1b2-006901065f99"
      },
      "source": [
        "# You might not always have access to a GPU\n",
        "# Assign 'a' and 'b' to run on CPU\n",
        "device = torch.device(\"cpu\")\n",
        "a = a.to(device)\n",
        "b = b.to(device)\n",
        "print(a, b)\n",
        "assert not a.is_cuda and not b.is_cuda"
      ],
      "execution_count": null,
      "outputs": [
        {
          "output_type": "stream",
          "text": [
            "tensor([0, 0, 0, 0, 0, 0, 0, 0, 0, 0, 0, 0, 0, 0, 0]) tensor([1., 2., 3., 4., 5.])\n"
          ],
          "name": "stdout"
        }
      ]
    },
    {
      "cell_type": "code",
      "metadata": {
        "id": "1GMvFc2c9P_i",
        "colab": {
          "base_uri": "https://localhost:8080/"
        },
        "outputId": "c3c73b54-6eb4-4a20-d80c-6a204e81f161"
      },
      "source": [
        "# You will often want to convert tensors to numpy arrays to interact with other python libraries\n",
        "# Convert 'a' to a numpy array 'c'\n",
        "c = a.numpy()\n",
        "print(type(c))\n",
        "assert type(c) == np.ndarray"
      ],
      "execution_count": null,
      "outputs": [
        {
          "output_type": "stream",
          "text": [
            "<class 'numpy.ndarray'>\n"
          ],
          "name": "stdout"
        }
      ]
    },
    {
      "cell_type": "code",
      "metadata": {
        "id": "EVFr_ZNgBMHL",
        "colab": {
          "base_uri": "https://localhost:8080/"
        },
        "outputId": "d4f0b42f-7552-42d3-a182-9e98dca08c20"
      },
      "source": [
        "# To get your data back into Pytorch\n",
        "# Convert 'c' to tensor 'd'\n",
        "d = torch.from_numpy(c)\n",
        "print(d.type())\n",
        "assert torch.is_tensor(d)"
      ],
      "execution_count": null,
      "outputs": [
        {
          "output_type": "stream",
          "text": [
            "torch.LongTensor\n"
          ],
          "name": "stdout"
        }
      ]
    },
    {
      "cell_type": "code",
      "metadata": {
        "id": "QWirC0ixcOBW"
      },
      "source": [
        "################################\n",
        "# COMPUTATION GRAPH MICROTASKS #\n",
        "################################"
      ],
      "execution_count": null,
      "outputs": []
    },
    {
      "cell_type": "code",
      "metadata": {
        "id": "VzWye56ncOBX",
        "colab": {
          "base_uri": "https://localhost:8080/"
        },
        "outputId": "b69a0fd3-75a2-4142-fb25-36fa91c47289"
      },
      "source": [
        "# To understand how pytorch organizes the computation graph, let's walk through \n",
        "# a quick example!\n",
        "\n",
        "# 1. First, construct a tensor 'a' that contains 10 random floats. \n",
        "# This will simulate the output layer of a network. Hint: use `torch.rand`.\n",
        "a = torch.rand((10))\n",
        "print(a)\n",
        "assert a.size() == torch.Size([10])"
      ],
      "execution_count": null,
      "outputs": [
        {
          "output_type": "stream",
          "text": [
            "tensor([0.0079, 0.6945, 0.6305, 0.3067, 0.5427, 0.3985, 0.1765, 0.4786, 0.9731,\n",
            "        0.3078])\n"
          ],
          "name": "stdout"
        }
      ]
    },
    {
      "cell_type": "code",
      "metadata": {
        "id": "pYj7wTWEcOBX",
        "colab": {
          "base_uri": "https://localhost:8080/"
        },
        "outputId": "ac473c3d-9ad7-4918-b730-210ff09db0c0"
      },
      "source": [
        "# 2. Now turn 'a' into an `nn.Parameter` so that it be attched to the computation\n",
        "# graph.\n",
        "a = nn.Parameter(a)\n",
        "\n",
        "print(a)\n",
        "assert type(a) == nn.Parameter\n",
        "\n",
        "# Notice that our original tensor 'a' is nested inside of a Parameter object.\n",
        "# The Parameter object knows that it will need to comput gradients at some point.\n",
        "\n",
        "# No need to do anything here, but this assert should pass.\n",
        "assert a.requires_grad == True"
      ],
      "execution_count": 135,
      "outputs": [
        {
          "output_type": "stream",
          "text": [
            "Parameter containing:\n",
            "tensor([0.0079, 0.6945, 0.6305, 0.3067, 0.5427, 0.3985, 0.1765, 0.4786, 0.9731,\n",
            "        0.3078], requires_grad=True)\n"
          ],
          "name": "stdout"
        }
      ]
    },
    {
      "cell_type": "code",
      "metadata": {
        "id": "78oHrC5bcOBX",
        "colab": {
          "base_uri": "https://localhost:8080/"
        },
        "outputId": "cc6f08cf-3182-4001-85e1-aeba14cd3131"
      },
      "source": [
        "# 3. Let's run 'a' through a loss function. The output of the loss function is\n",
        "# just another tensor, but this tensor remebers what operations produced it.\n",
        "loss_fn = nn.CrossEntropyLoss()\n",
        "loss = loss_fn(a.unsqueeze(0), torch.Tensor([7]).long())\n",
        "print(loss)\n",
        "\n",
        "# Now, instruct the network to do a backward pass, by calling '.backward()' on the \n",
        "# result of the loss function. We should now be able to see the gradients that \n",
        "# were computed for 'a' w.r.t. the loss.\n",
        "\n",
        "loss.backward()\n",
        "\n",
        "assert a.grad is not None\n",
        "print(a.grad)"
      ],
      "execution_count": 137,
      "outputs": [
        {
          "output_type": "stream",
          "text": [
            "tensor(2.3108, grad_fn=<NllLossBackward>)\n",
            "tensor([ 0.0619,  0.1231,  0.1154,  0.0835,  0.1057,  0.0915,  0.0733, -0.9008,\n",
            "         0.1626,  0.0836])\n"
          ],
          "name": "stdout"
        }
      ]
    },
    {
      "cell_type": "code",
      "metadata": {
        "id": "WYWQK_7_cOBY",
        "colab": {
          "base_uri": "https://localhost:8080/"
        },
        "outputId": "5298105c-07e7-4c27-9f18-8e5adc1830f6"
      },
      "source": [
        "# 4. If we were to use 'a' in another operation, this might affect the computation graph.\n",
        "# To make sure that you are not adversly affecting the computation graph, call\n",
        "# `.detach()` on 'a' and assign the result to a new variable 'b'.\n",
        "\n",
        "b = a.detach()\n",
        "\n",
        "print(a)\n",
        "print(b)\n",
        "assert a.requires_grad == True\n",
        "assert b.requires_grad == False"
      ],
      "execution_count": 140,
      "outputs": [
        {
          "output_type": "stream",
          "text": [
            "Parameter containing:\n",
            "tensor([0.0079, 0.6945, 0.6305, 0.3067, 0.5427, 0.3985, 0.1765, 0.4786, 0.9731,\n",
            "        0.3078], requires_grad=True)\n",
            "tensor([0.0079, 0.6945, 0.6305, 0.3067, 0.5427, 0.3985, 0.1765, 0.4786, 0.9731,\n",
            "        0.3078])\n"
          ],
          "name": "stdout"
        }
      ]
    }
  ]
}