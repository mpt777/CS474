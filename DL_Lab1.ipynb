{
  "nbformat": 4,
  "nbformat_minor": 0,
  "metadata": {
    "colab": {
      "name": "Copy of DL_Lab1.ipynb",
      "provenance": [],
      "collapsed_sections": [],
      "include_colab_link": true
    },
    "kernelspec": {
      "display_name": "Python 3",
      "language": "python",
      "name": "python3"
    },
    "language_info": {
      "codemirror_mode": {
        "name": "ipython",
        "version": 3
      },
      "file_extension": ".py",
      "mimetype": "text/x-python",
      "name": "python",
      "nbconvert_exporter": "python",
      "pygments_lexer": "ipython3",
      "version": "3.6.3"
    },
    "pycharm": {
      "stem_cell": {
        "cell_type": "raw",
        "metadata": {
          "collapsed": false
        },
        "source": []
      }
    }
  },
  "cells": [
    {
      "cell_type": "markdown",
      "metadata": {
        "id": "view-in-github",
        "colab_type": "text"
      },
      "source": [
        "<a href=\"https://colab.research.google.com/github/mpt777/CS474/blob/main/DL_Lab1.ipynb\" target=\"_parent\"><img src=\"https://colab.research.google.com/assets/colab-badge.svg\" alt=\"Open In Colab\"/></a>"
      ]
    },
    {
      "cell_type": "markdown",
      "metadata": {
        "id": "bkj1_ftQtuBk"
      },
      "source": [
        "# Lab 1: Getting Started\n",
        "\n",
        "## Objective  \n",
        "Get started with colab and python. Begin producing simple visualizations of data and images.\n",
        "\n",
        "## Deliverable\n",
        "For this lab, you will submit a colab notebook via Learning Suite. This notebook consists of two parts.\n",
        "\n",
        "___\n",
        "\n",
        "### Grading\n",
        "Your notebook will be graded on the following:\n",
        "* 20% Successfully turning in a notebook with working code\n",
        "* 35% Random image with 50 random elements\n",
        "* 35% Image indicating tensorflow success\n",
        "* 10% Tidy and legible figures, (for the future make sure to label axes where appropriate)\n",
        "\n",
        "___\n",
        "\n",
        "### Details\n",
        "Throughout this class, we will be using Google's colab environment to \n",
        "develop and test our deep neural networks. \n",
        "This consists of ipython notebooks and a standardized python distribution. \n",
        "For this lab, you must create a google account (or use one you already have), \n",
        "start up colab, and write a simple python program in it.\n",
        "\n",
        "As described above, the notebook should do two things: \n",
        "1) generate simple random images, and \n",
        "2) display an image that you generate using the Tensorflow playground.\n",
        "\n",
        "For part 1, you can generate any sort of random image that you want – \n",
        "consider random lines, random curves, random text, etc. \n",
        "Each time the program is run, it should generate a different random image. \n",
        "Your image should have at least 50 random elements \n",
        "(they can all be the same type, such as random lines, and can be created in a loop). \n",
        "We won't count the number of elements; this is just to encourage you to create \n",
        "random images with moderate complexity (ie, you can't just generate randomly colored pixels, \n",
        "as in the example below).\n",
        "\n",
        "For part 2, you should visit the Tensorflow playground (see link above),\n",
        "and play with different settings. Most of it will be unfamiliar,\n",
        "but don't worry – you can't break it!\n",
        "\n",
        "Once you have a working classifier, take a screenshot. \n",
        "Then use your colab notebook to display that image in-line.\n",
        "___\n",
        "### Part 1\n",
        "\n",
        "Your notebook should generate a random image. We will run this notebook 5 times; it should generate 5 different, moderately complex images. Each image should be 512 x 288. Have fun with it!\n",
        "\n",
        "The resulting image could for example something like this:\n",
        "![](http://liftothers.org/dokuwiki/lib/exe/fetch.php?media=cs401r_w2016:lab1.png)\n",
        "\n",
        "**TODO:** // Here are the list of things to do for this part\n",
        "\n",
        "**DONE:** // Put items from the TODO list here when you are done with them (double click on the cell, cut and paste the line). This is for your benefit as well as the TAs to help with grading.\n",
        "\n",
        "* Generate random images that are 512 x 288\n"
      ]
    },
    {
      "cell_type": "code",
      "metadata": {
        "id": "CsWiFi74EneB",
        "pycharm": {
          "is_executing": false
        },
        "colab": {
          "base_uri": "https://localhost:8080/",
          "height": 305
        },
        "outputId": "dc2e3d26-f258-4c65-b98a-05cbd3c21155"
      },
      "source": [
        "import IPython.display\n",
        "import PIL.Image\n",
        "import PIL.ImageDraw\n",
        "import numpy as np\n",
        "import random\n",
        "import cv2\n",
        "\n",
        "# A simple function to display an image in an ipython notebook\n",
        "def nbimage(data):\n",
        "    IPython.display.display(PIL.Image.fromarray(data))\n",
        "\n",
        "# create an image consisting of random colors\n",
        "\n",
        "IMG_WIDTH = 288\n",
        "IMG_HEIGHT = 512\n",
        "\n",
        "data = np.zeros((IMG_WIDTH,IMG_HEIGHT,3), np.uint8) # a 512x512 image, with 3 color channels (R,G,B)\n",
        "\n",
        "# display it!\n",
        "#nbimage(data)\n",
        "###################################################################################################### My Code\n",
        "def Random_Lines(line_count, circle_count, rectangle_count, word_count, input_word, image):\n",
        "  i=0\n",
        "  while i < line_count:\n",
        "    Start_X = random.randrange(0,IMG_HEIGHT)\n",
        "    Start_Y = random.randrange(0,IMG_WIDTH)\n",
        "    End_X = random.randrange(0,IMG_HEIGHT)\n",
        "    End_Y = random.randrange(0,IMG_WIDTH)\n",
        "\n",
        "    r_col = random.randrange(0,255)\n",
        "    g_col = random.randrange(0,255)\n",
        "    b_col = random.randrange(0,255)\n",
        "\n",
        "    cv2.line(image,(Start_X,Start_Y),(End_X,End_Y), (r_col,g_col,b_col,.2), random.randrange(1,4))\n",
        "    i = i+1\n",
        "\n",
        "  i=0\n",
        "  while i < circle_count:\n",
        "    Center_X = random.randrange(0,IMG_HEIGHT)\n",
        "    Center_Y = random.randrange(0,IMG_WIDTH)\n",
        "\n",
        "    Radius = random.randrange(0,IMG_WIDTH)\n",
        "\n",
        "    r_col = random.randrange(0,255)\n",
        "    g_col = random.randrange(0,255)\n",
        "    b_col = random.randrange(0,255)\n",
        "\n",
        "    cv2.circle(image,(Center_X,Center_Y), Radius, (r_col,g_col,b_col), random.randrange(1,4))\n",
        "    i = i+1\n",
        "\n",
        "  i=0\n",
        "  while i < rectangle_count:\n",
        "    Start_X = random.randrange(0,IMG_HEIGHT)\n",
        "    Start_Y = random.randrange(0,IMG_WIDTH)\n",
        "    End_X = random.randrange(0,IMG_HEIGHT)\n",
        "    End_Y = random.randrange(0,IMG_WIDTH)\n",
        "\n",
        "    r_col = random.randrange(0,255)\n",
        "    g_col = random.randrange(0,255)\n",
        "    b_col = random.randrange(0,255)\n",
        "\n",
        "    cv2.rectangle(image,(Start_X,Start_Y),(End_X,End_Y), (r_col,g_col,b_col,.2), random.randrange(1,4))\n",
        "    i = i+1\n",
        "\n",
        "  i=0\n",
        "  while i < word_count:\n",
        "    Center_X = random.randrange(0,IMG_HEIGHT)\n",
        "    Center_Y = random.randrange(0,IMG_WIDTH)\n",
        "\n",
        "    r_col = random.randrange(0,255)\n",
        "    g_col = random.randrange(0,255)\n",
        "    b_col = random.randrange(0,255)\n",
        "\n",
        "    cv2.putText(image,input_word,(Center_X,Center_Y),random.randrange(1,4),random.randrange(1,4),(r_col,g_col,b_col), random.randrange(1,4))\n",
        "    i = i+1\n",
        "\n",
        "  return image\n",
        "\n",
        "# by default, rand creates floating point numbers between [0,1].  We need to convert that to 8-bit bytes between [0,255]\n",
        "#data = (255*data).astype(np.uint8)\n",
        "\n",
        "nbimage( Random_Lines(10,25,10,5, \"Neural Net\", data) )\n"
      ],
      "execution_count": 79,
      "outputs": [
        {
          "output_type": "display_data",
          "data": {
            "image/png": "[encoded data removed]",
            "text/plain": [
              "<PIL.Image.Image image mode=RGB size=512x288 at 0x7FA7C5393128>"
            ]
          },
          "metadata": {
            "tags": []
          }
        }
      ]
    },
    {
      "cell_type": "markdown",
      "metadata": {
        "id": "fM3h46ZAucnV"
      },
      "source": [
        "\n",
        "___\n",
        "\n",
        "### Part 2\n",
        "\n",
        "You must play with the Tensorflow playground neural network, and figure out how to create a classifier that successfully classifies the “spiral” dataset.\n",
        "\n",
        "\n",
        "[Tensorflow playground](http://playground.tensorflow.org/)\n",
        "\n",
        "[Google colab](http://colab.research.google.com/) The site where you will probably be coding the labs\n",
        "\n",
        "[A colab notebook teaching you how to use colab notebooks](https://colab.research.google.com/drive/1TzaPS3jvRadN-URLbQ9nD1ZNoZktfNRy)\n",
        "\n",
        "[Various colab tutorials](https://sites.google.com/site/artml2018/tutorials)\n",
        "\n",
        "**TODO:**\n",
        "* Create a classifier that successfully classifies the \"spiral\" dataset\n",
        "* Display the image below\n",
        "\n",
        "**DONE:**\n"
      ]
    },
    {
      "cell_type": "markdown",
      "metadata": {
        "id": "jBNhAh2hTMfi"
      },
      "source": [
        "![Image](http://emptytxt.com/newimages/hosted/tensorflow.png)\n"
      ]
    }
  ]
}