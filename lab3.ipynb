{
  "nbformat": 4,
  "nbformat_minor": 0,
  "metadata": {
    "colab": {
      "name": "lab3.ipynb",
      "provenance": [],
      "collapsed_sections": [],
      "include_colab_link": true
    },
    "kernelspec": {
      "display_name": "Python 3",
      "language": "python",
      "name": "python3"
    },
    "language_info": {
      "codemirror_mode": {
        "name": "ipython",
        "version": 3
      },
      "file_extension": ".py",
      "mimetype": "text/x-python",
      "name": "python",
      "nbconvert_exporter": "python",
      "pygments_lexer": "ipython3",
      "version": "3.7.1"
    },
    "pycharm": {
      "stem_cell": {
        "cell_type": "raw",
        "metadata": {
          "collapsed": false
        },
        "source": []
      }
    },
    "accelerator": "GPU"
  },
  "cells": [
    {
      "cell_type": "markdown",
      "metadata": {
        "id": "view-in-github",
        "colab_type": "text"
      },
      "source": [
        "<a href=\"https://colab.research.google.com/github/mpt777/CS474/blob/main/lab3.ipynb\" target=\"_parent\"><img src=\"https://colab.research.google.com/assets/colab-badge.svg\" alt=\"Open In Colab\"/></a>"
      ]
    },
    {
      "cell_type": "markdown",
      "metadata": {
        "id": "ex8dd-lMiUI5"
      },
      "source": [
        "<a href=\"https://colab.research.google.com/github/wingated/cs474_labs_f2019/blob/master/DL_Lab3.ipynb\" target=\"_parent\"><img src=\"https://colab.research.google.com/assets/colab-badge.svg\" alt=\"Open In Colab\"/></a>"
      ]
    },
    {
      "cell_type": "markdown",
      "metadata": {
        "id": "view-in-github"
      },
      "source": [
        "# Lab 3: Intro to CNNs and DNNs\n",
        "\n",
        "## Objectives\n",
        "\n",
        "* Build and train a deep conv net\n",
        "* Explore and implement various initialization techniques\n",
        "* Implement a parameterized module in Pytorch\n",
        "* Use a principled loss function\n",
        "\n",
        "## Video Tutorial\n",
        "[https://youtu.be/3TAuTcx-VCc](https://youtu.be/3TAuTcx-VCc)\n",
        "\n",
        "## Deliverable\n",
        "For this lab, you will submit an ipython notebook via learningsuite.\n",
        "This is where you build your first deep neural network!\n",
        "\n",
        "For this lab, we'll be combining several different concepts that we've covered during class,\n",
        "including new layer types, initialization strategies, and an understanding of convolutions.\n",
        "\n",
        "## Grading Standards:\n",
        "* 20% Part 0: Successfully followed lab video and typed in code\n",
        "* 20% Part 1: Re-implement Conv2D and CrossEntropy loss function\n",
        "* 20% Part 2: Implement different initialization strategies\n",
        "* 10% Part 3: Print parameters, plot train/test accuracy\n",
        "* 10% Reach 85% validation accuracy from parts 1-3\n",
        "* 10% Part 4: Convolution parameters quiz\n",
        "* 10% Tidy and legible figures, including labeled axes where appropriate\n",
        "___\n",
        "\n",
        "### Part 0\n",
        "Watch and follow video tutorial:\n",
        "\n",
        "[https://youtu.be/3TAuTcx-VCc](https://youtu.be/3TAuTcx-VCc)\n",
        "\n",
        "**TODO:**\n",
        "\n",
        "**DONE:**\n",
        "* Watch tutorial"
      ]
    },
    {
      "cell_type": "code",
      "metadata": {
        "pycharm": {
          "name": "#%%\n"
        },
        "id": "Xkjw5pZOiUI9"
      },
      "source": [
        "#!pip3 install torch\n",
        "#!pip3 install torchvision\n",
        "#!pip3 install tqdm"
      ],
      "execution_count": null,
      "outputs": []
    },
    {
      "cell_type": "markdown",
      "metadata": {
        "id": "sEo9KppJiUI9"
      },
      "source": [
        ""
      ]
    },
    {
      "cell_type": "code",
      "metadata": {
        "collapsed": true,
        "id": "wQOefmcZVgTl"
      },
      "source": [
        "import torch\n",
        "import torch.nn as nn\n",
        "import torch.nn.functional as F\n",
        "import torch.optim as optim\n",
        "from torch.utils.data import Dataset, DataLoader\n",
        "import numpy as np\n",
        "import matplotlib.pyplot as plt\n",
        "from torchvision import transforms, utils, datasets\n",
        "from tqdm import tqdm\n",
        "from torch.nn.parameter import Parameter\n",
        "import pdb\n",
        "\n",
        "assert torch.cuda.is_available(), \"You need to request a GPU from Runtime > Change Runtime\""
      ],
      "execution_count": null,
      "outputs": []
    },
    {
      "cell_type": "code",
      "metadata": {
        "id": "NB4Ak0X5j9Bw"
      },
      "source": [
        "from torch.nn.parameter import Parameter\r\n",
        "import pdb"
      ],
      "execution_count": null,
      "outputs": []
    },
    {
      "cell_type": "code",
      "metadata": {
        "collapsed": true,
        "id": "Il_53HLSWPTY"
      },
      "source": [
        "class ConvNetwork (nn.Module):\n",
        "  def __init__(self,dataset):\n",
        "    super(ConvNetwork, self).__init__()\n",
        "    x, y = dataset[0]\n",
        "    c, h, w = x.size()\n",
        "    out_dim = 10\n",
        "\n",
        "    self.net = nn.Sequential(\n",
        "            Conv2d(c, 10, (3, 3), padding=(1, 1), init_strat='u'),\n",
        "            nn.ReLU(),\n",
        "            Conv2d(10, 32, (3, 3), padding=(1, 1)),\n",
        "            nn.ReLU(),\n",
        "            Conv2d(32, 16, (3, 3), padding=(1, 1)),\n",
        "            nn.ReLU(),\n",
        "            Conv2d(16, 10, (3, 3), padding=(1, 1),init_strat='u'),\n",
        "            nn.ReLU(),\n",
        "            Conv2d(10, 16, (3, 3), padding=(1, 1), init_strat='x'),\n",
        "            nn.ReLU(),\n",
        "            Conv2d(16, 32, (3, 3), padding=(1, 1),init_strat='o'),\n",
        "            nn.ReLU(),\n",
        "            Conv2d(32, 10, (3, 3), padding=(1, 1)),\n",
        "            nn.ReLU(),\n",
        "            Conv2d(10, out_dim, (28, 28), padding=(0, 0))\n",
        "                             )\n",
        "    \n",
        "  def forward(self, x):\n",
        "    return self.net(x).squeeze(2).squeeze(2)\n",
        "\n",
        "class FasionMNISTProcessesDataset(Dataset):\n",
        "  def __init__(self, root, train=True):\n",
        "    self.data = datasets.FashionMNIST(root, train=train,\n",
        "                                      transform=transforms.ToTensor(),\n",
        "                                      download=True)\n",
        "  def __getitem__(self,i):\n",
        "    x,y = self.data[i]\n",
        "    return x,y\n",
        "\n",
        "  def __len__(self):\n",
        "    return len(self.data)\n"
      ],
      "execution_count": null,
      "outputs": []
    },
    {
      "cell_type": "markdown",
      "metadata": {
        "id": "QY4owfQwm-Ni"
      },
      "source": [
        "___\n",
        "\n",
        "### Part 1\n",
        "Re-implement a Conv2D module with parameters and a CrossEntropy loss function.\n",
        "\n",
        "**TODO:**\n",
        "\n",
        "**DONE:**\n",
        "* CrossEntropyLoss \n",
        "* Conv2D\n",
        "\n",
        "___\n",
        "\n",
        "### Part 2\n",
        "Implement a few initialization strategies which can include Xe initialization\n",
        "(sometimes called Xavier), Orthogonal initialization, and uniform random.\n",
        "You can specify which strategy you want to use with a parameter. \n",
        "\n",
        "\n",
        "\n",
        "Helpful links include:\n",
        "*  [Orthogonal Initialization](https://hjweide.github.io/orthogonal-initialization-in-convolutional-layers) (or the original paper: http://arxiv.org/abs/1312.6120)\n",
        "*  http://andyljones.tumblr.com/post/110998971763/an-explanation-of-xavier-initialization\n",
        "\n",
        "**TODO:**\n",
        "\n",
        "**DONE:**\n",
        "* Parameterize custom Conv2D for different initilization strategies\n",
        "* Xe\n",
        "* Orthogonal\n",
        "* Uniform\n",
        "\n"
      ]
    },
    {
      "cell_type": "code",
      "metadata": {
        "collapsed": true,
        "id": "RkieTbwlYWPS"
      },
      "source": [
        "class CrossEntropyLoss(nn.Module):\n",
        "  def __init__(self, weight=None, size_average=None, ignore_index=-100,\n",
        "              reduce=None, reduction='mean'):\n",
        "    self.__dict__.update(locals())\n",
        "    super(CrossEntropyLoss, self).__init__()\n",
        "\n",
        "  def forward(self, y_hat, y_truth):\n",
        "    wrong_penalty = torch.logsumexp(y_hat,1)\n",
        "    batchsize, classes = y_hat.size()\n",
        "    temp = torch.zeros((batchsize, classes))\n",
        "    temp[np.arange(batchsize), y_truth] = 1\n",
        "    true_predictions = torch.sum(y_hat * temp.cuda(), dim=1)\n",
        "\n",
        "    return torch.mean(-true_predictions + wrong_penalty)\n",
        "\n",
        "class Conv2d(nn.Module):\n",
        "  def __init__(self, n_channels, out_channels, kernal_size, stride=1, padding=0, dilation=1, groups=1, bias=True, init_strat='x'):\n",
        "    self.__dict__.update(locals())\n",
        "    super(Conv2d, self).__init__()\n",
        "    \n",
        "    shape = (out_channels,n_channels,*kernal_size)\n",
        "    self.weight = Parameter(torch.Tensor(*shape))\n",
        "    self.bias = Parameter(torch.Tensor(out_channels))\n",
        "    \n",
        "    self.bias.data.uniform_(0,0)\n",
        "    \n",
        "    if init_strat[0] == 'o': # orthogonal\n",
        "      temp = np.random.random((shape[0],np.product(shape[1:]))).astype(np.float32)\n",
        "      U,_,Vt = np.linalg.svd(temp, full_matrices=False)\n",
        "      if len(temp) > len(temp[0]):\n",
        "        W = U.reshape(*shape)\n",
        "      else:\n",
        "        W = Vt.reshape(*shape)\n",
        "      self.weight.data = torch.from_numpy(W)\n",
        "\n",
        "    elif init_strat[0] == 'u': # uniform\n",
        "      self.weight.data.uniform_(-1,1)\n",
        "    else: # xavier\n",
        "      #temp = np.random.normal((shape[0],np.product(shape[1:]))).astype(np.float32)\n",
        "      #temp = np.random.normal(0.0,2/np.sqrt(n_channels+out_channels)).astype(np.float32)\n",
        "      #self.weight.data = torch.from_numpy(temp.reshape()) # Couldn't get this to work....\n",
        "      #self.bias.data.fill_(0)\n",
        "      torch.nn.init.xavier_uniform_(self.weight)\n",
        "\n",
        "    self.shape = shape\n",
        "      \n",
        "  def forward(self, x):\n",
        "    return F.conv2d(x, self.weight, self.bias, self.stride, \n",
        "                    self.padding, self.dilation, self.groups)\n",
        "  "
      ],
      "execution_count": null,
      "outputs": []
    },
    {
      "cell_type": "code",
      "metadata": {
        "colab": {
          "base_uri": "https://localhost:8080/"
        },
        "id": "at7-LxxrRGqN",
        "outputId": "7010549b-70ee-4b2c-9d41-b3e3f6d48831"
      },
      "source": [
        "np.random.normal(0.0,2/np.sqrt(2+3))"
      ],
      "execution_count": null,
      "outputs": [
        {
          "output_type": "execute_result",
          "data": {
            "text/plain": [
              "-0.23146488738806797"
            ]
          },
          "metadata": {
            "tags": []
          },
          "execution_count": 6
        }
      ]
    },
    {
      "cell_type": "code",
      "metadata": {
        "collapsed": true,
        "id": "jYqywck8Wdm9",
        "pycharm": {
          "is_executing": false
        }
      },
      "source": [
        "# Initialize Datasets\n",
        "train_dataset = FasionMNISTProcessesDataset('/tmp/fashionmnist', train=True)\n",
        "val_dataset = FasionMNISTProcessesDataset('/tmp/fashionmnist', train=False)\n",
        "\n",
        "# Initialize DataLoaders\n",
        "train_loader = DataLoader(train_dataset, batch_size=42, pin_memory=True)\n",
        "validation_loader = DataLoader(val_dataset, batch_size=42, pin_memory=True)\n",
        "\n",
        "# Initialize Model\n",
        "model = ConvNetwork(train_dataset)\n",
        "model = model.cuda()\n",
        "\n",
        "# Initialize Objective and Optimizer and other parameters\n",
        "optimizer = optim.SGD(model.parameters(), lr=0.04)\n",
        "objective = torch.nn.CrossEntropyLoss()\n",
        "\n",
        "cntr = 0"
      ],
      "execution_count": null,
      "outputs": []
    },
    {
      "cell_type": "code",
      "metadata": {
        "colab": {
          "base_uri": "https://localhost:8080/"
        },
        "collapsed": true,
        "id": "mTg1jyIsYVZN",
        "pycharm": {
          "is_executing": false
        },
        "outputId": "66dfbf74-1bc8-424e-8097-85f713ea675c"
      },
      "source": [
        "losses = []\n",
        "validations = []\n",
        "\n",
        "validation_accuracies = []\n",
        "accuracies = []\n",
        "\n",
        "num_epochs = 50\n",
        "for epoch in range(num_epochs):\n",
        "  #train\n",
        "  batch=0\n",
        "  loop=tqdm(total=len(train_loader) * num_epochs, position=0)\n",
        "  for x, y_truth in train_loader:\n",
        "    x, y_truth = x.cuda(non_blocking=True), y_truth.cuda(non_blocking=True)\n",
        "\n",
        "    optimizer.zero_grad()\n",
        "    y_hat = model(x)\n",
        "\n",
        "    loss = objective(y_hat, y_truth)\n",
        "\n",
        "    loss.backward()\n",
        "    optimizer.step()\n",
        "\n",
        "    predictions = torch.max(y_hat, 1).indices.reshape(y_truth.shape)\n",
        "    correct = predictions == y_truth\n",
        "    accuracy = torch.sum(correct).item() / len(correct)\n",
        "    accuracies.append(accuracy)\n",
        "\n",
        "    losses.append(loss.item())\n",
        "\n",
        "    if (epoch % 2 == 0 and batch == 0):\n",
        "      total_val_acc = []\n",
        "      total_val_loss = []\n",
        "\n",
        "      \n",
        "      for val_x, val_y_truth in validation_loader:\n",
        "\n",
        "        val_yhat = model(val_x.cuda())\n",
        "        val_x, val_y_truth = val_x.cuda(non_blocking=True), val_y_truth.cuda(non_blocking=True)\n",
        "        val_loss = objective(val_yhat, val_y_truth).item()\n",
        "        total_val_loss.append(val_loss)\n",
        "\n",
        "        val_predictions = torch.max(val_yhat, 1).indices.reshape(val_y_truth.shape)\n",
        "        val_correct = val_predictions == val_y_truth\n",
        "        val_acc = torch.sum(val_correct).item() / len(val_correct)\n",
        "        total_val_acc.append(val_acc)\n",
        "        \n",
        "      val_acc = np.mean(total_val_acc)\n",
        "      validation_accuracies.append((len(accuracies),val_acc))  \n",
        "      val_loss = np.mean(total_val_loss)\n",
        "\n",
        "\n",
        "      validations.append((len(losses),val_loss))\n",
        "\n",
        "    cntr += 1\n",
        "    loop.set_description('epoch{} batch{} loss:{:.4f} val_loss{:.4f} accuracy{:4f} val_accuracy{:4f}'.format(epoch, batch, loss.item(), validations[-1][-1], accuracy, val_acc))\n",
        "    batch += 1\n",
        "\n",
        "  loop.close()"
      ],
      "execution_count": null,
      "outputs": [
        {
          "output_type": "stream",
          "text": [
            "epoch0 batch1428 loss:0.2264 val_loss2.4839 accuracy0.916667 val_accuracy0.104503:   0%|          | 0/71450 [00:19<?, ?it/s]\n",
            "epoch1 batch1428 loss:0.1693 val_loss2.4839 accuracy0.958333 val_accuracy0.104503:   0%|          | 0/71450 [00:17<?, ?it/s]\n",
            "epoch2 batch1428 loss:0.1674 val_loss0.3923 accuracy0.916667 val_accuracy0.863120:   0%|          | 0/71450 [00:19<?, ?it/s]\n",
            "epoch3 batch1428 loss:0.1372 val_loss0.3923 accuracy0.916667 val_accuracy0.863120:   0%|          | 0/71450 [00:17<?, ?it/s]\n",
            "epoch4 batch1428 loss:0.1378 val_loss0.2984 accuracy0.916667 val_accuracy0.896095:   0%|          | 0/71450 [00:19<?, ?it/s]\n",
            "epoch5 batch1428 loss:0.1253 val_loss0.2984 accuracy0.916667 val_accuracy0.896095:   0%|          | 0/71450 [00:18<?, ?it/s]\n",
            "epoch6 batch1428 loss:0.1127 val_loss0.2883 accuracy0.916667 val_accuracy0.898984:   0%|          | 0/71450 [00:19<?, ?it/s]\n",
            "epoch7 batch1428 loss:0.0618 val_loss0.2883 accuracy0.958333 val_accuracy0.898984:   0%|          | 0/71450 [00:18<?, ?it/s]\n",
            "epoch8 batch1428 loss:0.0458 val_loss0.3015 accuracy1.000000 val_accuracy0.902072:   0%|          | 0/71450 [00:19<?, ?it/s]\n",
            "epoch9 batch1428 loss:0.0755 val_loss0.3015 accuracy0.958333 val_accuracy0.902072:   0%|          | 0/71450 [00:18<?, ?it/s]\n",
            "epoch10 batch1428 loss:0.0278 val_loss0.3014 accuracy1.000000 val_accuracy0.903467:   0%|          | 0/71450 [00:19<?, ?it/s]\n",
            "epoch11 batch1428 loss:0.0417 val_loss0.3014 accuracy1.000000 val_accuracy0.903467:   0%|          | 0/71450 [00:18<?, ?it/s]\n",
            "epoch12 batch1428 loss:0.0431 val_loss0.3529 accuracy1.000000 val_accuracy0.897788:   0%|          | 0/71450 [00:19<?, ?it/s]\n",
            "epoch13 batch1428 loss:0.0343 val_loss0.3529 accuracy1.000000 val_accuracy0.897788:   0%|          | 0/71450 [00:18<?, ?it/s]\n",
            "epoch14 batch1428 loss:0.0489 val_loss0.3787 accuracy0.958333 val_accuracy0.896493:   0%|          | 0/71450 [00:19<?, ?it/s]\n",
            "epoch15 batch1428 loss:0.0408 val_loss0.3787 accuracy1.000000 val_accuracy0.896493:   0%|          | 0/71450 [00:18<?, ?it/s]\n",
            "epoch16 batch1428 loss:0.0094 val_loss0.4621 accuracy1.000000 val_accuracy0.888723:   0%|          | 0/71450 [00:19<?, ?it/s]\n",
            "epoch17 batch1428 loss:0.0086 val_loss0.4621 accuracy1.000000 val_accuracy0.888723:   0%|          | 0/71450 [00:18<?, ?it/s]\n",
            "epoch18 batch1428 loss:0.0057 val_loss0.4699 accuracy1.000000 val_accuracy0.891911:   0%|          | 0/71450 [00:19<?, ?it/s]\n",
            "epoch19 batch1428 loss:0.0118 val_loss0.4699 accuracy1.000000 val_accuracy0.891911:   0%|          | 0/71450 [00:18<?, ?it/s]\n",
            "epoch20 batch1428 loss:0.0259 val_loss0.4984 accuracy1.000000 val_accuracy0.889420:   0%|          | 0/71450 [00:19<?, ?it/s]\n",
            "epoch21 batch1428 loss:0.0254 val_loss0.4984 accuracy1.000000 val_accuracy0.889420:   0%|          | 0/71450 [00:18<?, ?it/s]\n",
            "epoch22 batch1428 loss:0.1105 val_loss0.5210 accuracy0.958333 val_accuracy0.889719:   0%|          | 0/71450 [00:19<?, ?it/s]\n",
            "epoch23 batch1428 loss:0.0190 val_loss0.5210 accuracy1.000000 val_accuracy0.889719:   0%|          | 0/71450 [00:18<?, ?it/s]\n",
            "epoch24 batch1428 loss:0.0018 val_loss0.5715 accuracy1.000000 val_accuracy0.885933:   0%|          | 0/71450 [00:19<?, ?it/s]\n",
            "epoch25 batch1428 loss:0.0013 val_loss0.5715 accuracy1.000000 val_accuracy0.885933:   0%|          | 0/71450 [00:18<?, ?it/s]\n",
            "epoch26 batch1428 loss:0.2355 val_loss0.5937 accuracy0.916667 val_accuracy0.889819:   0%|          | 0/71450 [00:19<?, ?it/s]\n",
            "epoch27 batch1428 loss:0.0025 val_loss0.5937 accuracy1.000000 val_accuracy0.889819:   0%|          | 0/71450 [00:18<?, ?it/s]\n",
            "epoch28 batch1428 loss:0.0279 val_loss0.5703 accuracy1.000000 val_accuracy0.896194:   0%|          | 0/71450 [00:19<?, ?it/s]\n",
            "epoch29 batch1428 loss:0.0265 val_loss0.5703 accuracy1.000000 val_accuracy0.896194:   0%|          | 0/71450 [00:18<?, ?it/s]\n",
            "epoch30 batch1428 loss:0.0184 val_loss0.6283 accuracy1.000000 val_accuracy0.891014:   0%|          | 0/71450 [00:19<?, ?it/s]\n",
            "epoch31 batch1428 loss:0.0037 val_loss0.6283 accuracy1.000000 val_accuracy0.891014:   0%|          | 0/71450 [00:18<?, ?it/s]\n",
            "epoch32 batch1428 loss:0.0046 val_loss0.5834 accuracy1.000000 val_accuracy0.897490:   0%|          | 0/71450 [00:19<?, ?it/s]\n",
            "epoch33 batch1428 loss:0.0151 val_loss0.5834 accuracy1.000000 val_accuracy0.897490:   0%|          | 0/71450 [00:18<?, ?it/s]\n",
            "epoch34 batch1428 loss:0.0008 val_loss0.6400 accuracy1.000000 val_accuracy0.898187:   0%|          | 0/71450 [00:19<?, ?it/s]\n",
            "epoch35 batch1428 loss:0.0356 val_loss0.6400 accuracy0.958333 val_accuracy0.898187:   0%|          | 0/71450 [00:18<?, ?it/s]\n",
            "epoch36 batch1428 loss:0.0058 val_loss0.6416 accuracy1.000000 val_accuracy0.897788:   0%|          | 0/71450 [00:19<?, ?it/s]\n",
            "epoch37 batch1428 loss:0.0042 val_loss0.6416 accuracy1.000000 val_accuracy0.897788:   0%|          | 0/71450 [00:18<?, ?it/s]\n",
            "epoch38 batch1428 loss:0.0216 val_loss0.6895 accuracy1.000000 val_accuracy0.897589:   0%|          | 0/71450 [00:19<?, ?it/s]\n",
            "epoch39 batch1428 loss:0.0061 val_loss0.6895 accuracy1.000000 val_accuracy0.897589:   0%|          | 0/71450 [00:18<?, ?it/s]\n",
            "epoch40 batch1428 loss:0.0027 val_loss0.6443 accuracy1.000000 val_accuracy0.892110:   0%|          | 0/71450 [00:19<?, ?it/s]\n",
            "epoch41 batch1428 loss:0.0654 val_loss0.6443 accuracy0.958333 val_accuracy0.892110:   0%|          | 0/71450 [00:18<?, ?it/s]\n",
            "epoch42 batch1428 loss:0.0482 val_loss0.6233 accuracy0.958333 val_accuracy0.900777:   0%|          | 0/71450 [00:19<?, ?it/s]\n",
            "epoch43 batch1428 loss:0.0007 val_loss0.6233 accuracy1.000000 val_accuracy0.900777:   0%|          | 0/71450 [00:18<?, ?it/s]\n",
            "epoch44 batch1428 loss:0.1631 val_loss0.7153 accuracy0.958333 val_accuracy0.893007:   0%|          | 0/71450 [00:19<?, ?it/s]\n",
            "epoch45 batch1428 loss:0.0013 val_loss0.7153 accuracy1.000000 val_accuracy0.893007:   0%|          | 0/71450 [00:18<?, ?it/s]\n",
            "epoch46 batch1428 loss:0.0168 val_loss0.6752 accuracy1.000000 val_accuracy0.894700:   0%|          | 0/71450 [00:19<?, ?it/s]\n",
            "epoch47 batch1428 loss:0.0046 val_loss0.6752 accuracy1.000000 val_accuracy0.894700:   0%|          | 0/71450 [00:18<?, ?it/s]\n",
            "epoch48 batch1428 loss:0.0263 val_loss0.6544 accuracy1.000000 val_accuracy0.897888:   0%|          | 0/71450 [00:19<?, ?it/s]\n",
            "epoch49 batch1428 loss:0.0257 val_loss0.6544 accuracy1.000000 val_accuracy0.897888:   0%|          | 0/71450 [00:18<?, ?it/s]\n"
          ],
          "name": "stderr"
        }
      ]
    },
    {
      "cell_type": "markdown",
      "metadata": {
        "id": "ronkEckHiDaU"
      },
      "source": [
        "\n",
        "___\n",
        "\n",
        "### Part 3\n",
        "Print the number of parameters in your network and plot accuracy of your training and validation \n",
        "set over time. You should experiment with some deep networks and see if you can get a network \n",
        "with close to 1,000,000 parameters.\n",
        "\n",
        "Once you've experimented with multiple network setups and the different initialization strategies, plot the best-performing experiment here. You should be able to exceed 85% accuracy on the validation set.\n",
        "\n",
        "**TODO:**\n",
        "\n",
        "**DONE:**\n",
        "* Experiment with Deep Networks\n",
        "* Plot accuracy of training and validation set over time\n",
        "* Print out number of parameters in the model \n",
        "* Plot experiment results with 85% or better validation accuracy\n",
        "\n"
      ]
    },
    {
      "cell_type": "code",
      "metadata": {
        "collapsed": true,
        "id": "PaWCKjxvyRSf",
        "pycharm": {
          "is_executing": false
        },
        "colab": {
          "base_uri": "https://localhost:8080/",
          "height": 573
        },
        "outputId": "c0d64e43-40bb-489d-c680-891379004c93"
      },
      "source": [
        "# Go back up and try a few different networks and initialization strategies\n",
        "# Plot loss if you want\n",
        "# Plot accuracy\n",
        "a, b = zip(*validations)\n",
        "c, d = zip(*validation_accuracies)\n",
        "plt.figure(1)\n",
        "plt.plot(losses, label='train')\n",
        "plt.plot(a, b, label='val')\n",
        "plt.title(\"Training and Validation Losses over Batch\")\n",
        "plt.ylabel('Loss')\n",
        "plt.xlabel('Batch')\n",
        "plt.legend()\n",
        "\n",
        "plt.figure(2)\n",
        "plt.plot(accuracies, label='train')\n",
        "plt.plot(c, d, label='val')\n",
        "plt.title(\"Training and Validation Accuracy over Batch\")\n",
        "plt.ylabel('Accuracy')\n",
        "plt.xlabel('Batch')\n",
        "plt.legend()\n",
        "\n",
        "plt.show()"
      ],
      "execution_count": null,
      "outputs": [
        {
          "output_type": "display_data",
          "data": {
            "image/png": "[encoded data removed]",
            "text/plain": [
              "<Figure size 432x288 with 1 Axes>"
            ]
          },
          "metadata": {
            "tags": [],
            "needs_background": "light"
          }
        },
        {
          "output_type": "display_data",
          "data": {
            "image/png": "[encoded data removed]",
            "text/plain": [
              "<Figure size 432x288 with 1 Axes>"
            ]
          },
          "metadata": {
            "tags": [],
            "needs_background": "light"
          }
        }
      ]
    },
    {
      "cell_type": "code",
      "metadata": {
        "collapsed": true,
        "id": "oijCR-JnyS6V",
        "pycharm": {
          "is_executing": false
        },
        "colab": {
          "base_uri": "https://localhost:8080/"
        },
        "outputId": "5fe660ea-7c7c-459c-c72c-206ac7536769"
      },
      "source": [
        "# Compute and print the number of parameters in the model\n",
        "total_params = 0\n",
        "for name, param in model.named_parameters():\n",
        "  if param.requires_grad:\n",
        "    num_params = np.prod(param.size())\n",
        "    total_params += num_params\n",
        "print()\n",
        "print('Total Parameters : ', total_params)"
      ],
      "execution_count": null,
      "outputs": [
        {
          "output_type": "stream",
          "text": [
            "\n",
            "Total Parameters :  96482\n"
          ],
          "name": "stdout"
        }
      ]
    },
    {
      "cell_type": "markdown",
      "metadata": {
        "id": "7hXGRxUQh9gX"
      },
      "source": [
        "___\n",
        "\n",
        "### Part 4\n",
        "Learn about how convolution layers affect the shape of outputs, and answer the following quiz questions. Include these in a new markdown cell in your jupyter notebook.\n",
        "\n",
        "\n",
        "*Using a Kernel size of 3×3 what should the settings of your 2d convolution be that results in the following mappings (first answer given to you)*\n",
        "\n",
        "* (c=3, h=10, w=10) ⇒ (c=10, h=8, w=8) : (out_channels=10, kernel_size=(3, 3), padding=(0, 0))\n",
        "* (c=3, h=10, w=10) ⇒ (c=22, h=10, w=10) : **(out_channels=22, kernel_size=(3, 3), padding=(1, 1))**\n",
        "* (c=3, h=10, w=10) ⇒ (c=65, h=12, w=12) : **(out_channels=65, kernel_size=(3, 3), padding=(2, 2))**\n",
        "* (c=3, h=10, w=10) ⇒ (c=7, h=20, w=20) : **(out_channels=7, kernel_size=(3, 3), padding=(6, 6))**\n",
        "\n",
        "*Using a Kernel size of 5×5:*)\n",
        "\n",
        "* (c=3, h=10, w=10) ⇒ (c=10, h=8, w=8) : (out_channels=10, kernel_size=(5, 5), padding=(1, 1))\n",
        "* (c=3, h=10, w=10) ⇒ (c=100, h=10, w=10) : **(out_channels=100, kernel_size=(5, 5), padding=(2, 2))**\n",
        "* (c=3, h=10, w=10) ⇒ (c=23, h=12, w=12) : **(out_channels=23, kernel_size=(5, 5), padding=(3, 3))**\n",
        "* (c=3, h=10, w=10) ⇒ (c=5, h=24, w=24) : **(out_channels=5, kernel_size=(5, 5), padding=(9, 9))**\n",
        "\n",
        "*Using Kernel size of 5×3:*\n",
        "\n",
        "* (c=3, h=10, w=10) ⇒ (c=10, h=8, w=8) : **(out_channels=10, kernel_size=(5, 3), padding=(1, 0))**\n",
        "* (c=3, h=10, w=10) ⇒ (c=100, h=10, w=10) : **(out_channels=100, kernel_size=(5, 3), padding=(2, 1))**\n",
        "* (c=3, h=10, w=10) ⇒ (c=23, h=12, w=12) : **(out_channels=23, kernel_size=(5, 3), padding=(3, 2))**\n",
        "* (c=3, h=10, w=10) ⇒ (c=5, h=24, w=24) : **(out_channels=5, kernel_size=(5, 3), padding=(9, 8))**\n",
        "\n",
        "*Determine the kernel that requires the smallest padding size to make the following mappings possible:*\n",
        "\n",
        "* (c=3, h=10, w=10) ⇒ (c=10, h=9, w=7) : **(out_channels=10, kernel_size=(2, 4), padding=(0, 0))**\n",
        "* (c=3, h=10, w=10) ⇒ (c=22, h=10, w=10) : ** (out_channels=22, kernel_size=(1, 1), padding=(0, 0))**\n",
        "\n",
        "**TODO:** \n",
        "\n",
        "**DONE:**\n",
        "* Answer all the questions above\n"
      ]
    },
    {
      "cell_type": "code",
      "metadata": {
        "collapsed": true,
        "id": "XXfG3wClh8an",
        "pycharm": {
          "is_executing": false
        },
        "colab": {
          "base_uri": "https://localhost:8080/"
        },
        "outputId": "bf2206d0-0352-434a-be7c-3a1b95832f7c"
      },
      "source": [
        "# Write some test code for checking the answers for these problems (example shown in the video)\n",
        "\n",
        "def Test_Driver(tuple_in, tuple_out, oc , ks, pd):\n",
        "  test_case = Conv2d(tuple_in[0], out_channels=oc, kernal_size=ks, padding=pd)\n",
        "  test_size = test_case(torch.zeros(1, *tuple_in)).size()\n",
        "  correct = tuple(test_size[1:])\n",
        "  \n",
        "  if tuple_out == correct:\n",
        "    return 0\n",
        "  else:\n",
        "    return 1\n",
        "\n",
        "assert Test_Driver((3,10,10), (10,8,8), 10, (3,3), (0,0)) == 0\n",
        "assert Test_Driver((3,10,10), (22,10,10), 22, (3,3), (1,1)) == 0\n",
        "assert Test_Driver((3,10,10), (65,12,12), 65, (3,3), (2,2)) == 0\n",
        "assert Test_Driver((3,10,10), (7,20,20), 7, (3,3), (6,6)) == 0\n",
        "\n",
        "assert Test_Driver((3,10,10), (10,8,8), 10, (5,5), (1,1)) == 0\n",
        "assert Test_Driver((3,10,10), (100,10,10), 100, (5,5), (2,2)) == 0\n",
        "assert Test_Driver((3,10,10), (23,12,12), 23, (5,5), (3,3)) == 0\n",
        "assert Test_Driver((3,10,10), (5,24,24), 5, (5,5), (9,9)) == 0\n",
        "\n",
        "assert Test_Driver((3,10,10), (10,8,8), 10, (5,3), (1,0)) == 0\n",
        "assert Test_Driver((3,10,10), (100,10,10), 100, (5,3),(2,1)) == 0\n",
        "assert Test_Driver((3,10,10), (23,12,12), 23, (5,3),(3,2)) == 0\n",
        "assert Test_Driver((3,10,10), (5,24,24), 5, (5,3), (9,8)) == 0\n",
        "\n",
        "assert Test_Driver((3,10,10), (10,9,7),10,(2,4), (0,0)) == 0\n",
        "assert Test_Driver((3,10,10), (22,10,10),22, (1,1), (0,0)) == 0\n",
        "\n",
        "print('Passed')\n"
      ],
      "execution_count": null,
      "outputs": [
        {
          "output_type": "stream",
          "text": [
            "Passed\n"
          ],
          "name": "stdout"
        }
      ]
    }
  ]
}